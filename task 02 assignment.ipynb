{
 "cells": [
  {
   "cell_type": "code",
   "execution_count": null,
   "id": "d97c42a7-c070-46c2-8f9a-4c9b4d20df4a",
   "metadata": {},
   "outputs": [],
   "source": [
    "Ques01"
   ]
  },
  {
   "cell_type": "code",
   "execution_count": 1,
   "id": "01e75e7e-96a9-46d1-b475-c213428870b6",
   "metadata": {},
   "outputs": [],
   "source": [
    "import re\n",
    "\n",
    "def check_password(password):\n",
    "    # Check if the password meets the length requirement\n",
    "    if len(password) < 10:\n",
    "        return \"Invalid Password\"\n",
    "\n",
    "    # Check if the password has at least 2 uppercase and 2 lowercase letters\n",
    "    if not (sum(1 for c in password if c.isupper()) >= 2 and sum(1 for c in password if c.islower()) >= 2):\n",
    "        return \"Invalid Password\"\n",
    "\n",
    "    # Check if the password has at least 1 number and 3 special characters\n",
    "    special_characters = re.findall(r'[!@#$%^&*(),.?\":{}|<>]', password)\n",
    "    if not (any(c.isdigit() for c in password) and len(special_characters) >= 3):\n",
    "        return \"Invalid Password\"\n",
    "    # If all the checks pass, the password is valid\n",
    "    return \"Valid Password\""
   ]
  },
  {
   "cell_type": "code",
   "execution_count": 2,
   "id": "723b65e8-c2bc-40cc-bebf-26b3d277bbe3",
   "metadata": {},
   "outputs": [
    {
     "name": "stdout",
     "output_type": "stream",
     "text": [
      "Invalid Password\n",
      "Invalid Password\n",
      "Invalid Password\n"
     ]
    }
   ],
   "source": [
    "password = \"MyPassword!123\"\n",
    "print(check_password(password))  # Output: Valid Password\n",
    "\n",
    "password = \"mypassword123\"\n",
    "print(check_password(password))  # Output: Invalid Password\n",
    "\n",
    "password = \"MyP@ssw0rd\"\n",
    "print(check_password(password))  # Output: Invalid Password"
   ]
  },
  {
   "cell_type": "code",
   "execution_count": null,
   "id": "2c55bb21-d0a9-4d29-9747-084192ca6e3f",
   "metadata": {},
   "outputs": [],
   "source": [
    "Q2. Solve the below-given questions using at least one of the following:\n",
    "1. Lambda functioJ\n",
    "2. Filter functioJ\n",
    "3. Zap functioJ\n",
    "4. List ComprehensioI\n",
    "B Check if the string starts with a particular letterY\n",
    "B Check if the string is numericY\n",
    "B Sort a list of tuples having fruit names and their quantity. [(\"mango\",99),(\"orange\",80), (\"grapes\", 1000)-\n",
    "B Find the squares of numbers from 1 to 10Y\n",
    "B Find the cube root of numbers from 1 to 10Y\n",
    "B Check if a given number is evenY\n",
    "B Filter odd numbers from the given list.\n",
    "[1,2,3,4,5,6,7,8,9,10-\n",
    "B Sort a list of integers into positive and negative integers lists.\n",
    "[1,2,3,4,5,6,-1,-2,-3,-4,-5,0]"
   ]
  },
  {
   "cell_type": "code",
   "execution_count": 3,
   "id": "5db38027-584d-43dd-8d7c-08d00602cea9",
   "metadata": {},
   "outputs": [
    {
     "name": "stdout",
     "output_type": "stream",
     "text": [
      "The following strings start with the letter 'm': ['mango']\n"
     ]
    }
   ],
   "source": [
    "string_list = ['apple', 'banana', 'cherry', 'mango', 'orange', 'papaya']\n",
    "letter = 'm'\n",
    "\n",
    "filtered_list = list(filter(lambda x: x.startswith(letter), string_list))\n",
    "\n",
    "if filtered_list:\n",
    "    print(f\"The following strings start with the letter '{letter}': {filtered_list}\")\n",
    "else:\n",
    "    print(f\"No strings found that start with the letter '{letter}'\")"
   ]
  },
  {
   "cell_type": "code",
   "execution_count": 4,
   "id": "07777f14-0a5b-475f-aa61-092b90c373d9",
   "metadata": {},
   "outputs": [
    {
     "name": "stdout",
     "output_type": "stream",
     "text": [
      "Is 12345 numeric? Yes\n",
      "Is 12.34 numeric? No\n",
      "Is abc123 numeric? No\n"
     ]
    }
   ],
   "source": [
    "string1 = '12345'\n",
    "string2 = '12.34'\n",
    "string3 = 'abc123'\n",
    "\n",
    "print(f\"Is {string1} numeric? {'Yes' if string1.isdigit() else 'No'}\")\n",
    "print(f\"Is {string2} numeric? {'Yes' if string2.isdigit() else 'No'}\")\n",
    "print(f\"Is {string3} numeric? {'Yes' if string3.isdigit() else 'No'}\")"
   ]
  },
  {
   "cell_type": "code",
   "execution_count": 5,
   "id": "2f2e25a2-1e58-4451-94b5-9f3534d01030",
   "metadata": {},
   "outputs": [
    {
     "name": "stdout",
     "output_type": "stream",
     "text": [
      "[('grapes', 1000), ('mango', 99), ('orange', 80)]\n"
     ]
    }
   ],
   "source": [
    "fruits = [(\"mango\",99),(\"orange\",80), (\"grapes\", 1000)]\n",
    "\n",
    "sorted_fruits = sorted(fruits, key=lambda x: x[1], reverse=True)\n",
    "\n",
    "print(sorted_fruits)"
   ]
  },
  {
   "cell_type": "code",
   "execution_count": 6,
   "id": "cb825146-c9e2-4286-861f-3a2ad67383d5",
   "metadata": {},
   "outputs": [
    {
     "name": "stdout",
     "output_type": "stream",
     "text": [
      "[1, 4, 9, 16, 25, 36, 49, 64, 81, 100]\n"
     ]
    }
   ],
   "source": [
    "squares = [x*x for x in range(1, 11)]\n",
    "\n",
    "print(squares)"
   ]
  },
  {
   "cell_type": "code",
   "execution_count": 7,
   "id": "dba18bf4-1a1a-41f1-91df-b010eefca74b",
   "metadata": {},
   "outputs": [
    {
     "name": "stdout",
     "output_type": "stream",
     "text": [
      "[1.0, 1.2599210498948732, 1.4422495703074083, 1.5874010519681994, 1.7099759466766968, 1.8171205928321397, 1.912931182772389, 2.0, 2.080083823051904, 2.154434690031884]\n"
     ]
    }
   ],
   "source": [
    "import math\n",
    "\n",
    "cuberoots = list(map(lambda x: math.pow(x, 1/3), range(1, 11)))\n",
    "\n",
    "print(cuberoots)\n"
   ]
  },
  {
   "cell_type": "code",
   "execution_count": 8,
   "id": "97f647bd-e076-4540-9c26-cb3fd50fb5a5",
   "metadata": {},
   "outputs": [
    {
     "ename": "SyntaxError",
     "evalue": "unterminated string literal (detected at line 5) (2055275206.py, line 5)",
     "output_type": "error",
     "traceback": [
      "\u001b[0;36m  Cell \u001b[0;32mIn[8], line 5\u001b[0;36m\u001b[0m\n\u001b[0;31m    print(f\"The number {\u001b[0m\n\u001b[0m          ^\u001b[0m\n\u001b[0;31mSyntaxError\u001b[0m\u001b[0;31m:\u001b[0m unterminated string literal (detected at line 5)\n"
     ]
    }
   ],
   "source": [
    "num = 7\n",
    "\n",
    "result = \"even\" if list(filter(lambda x: x%2==0, [num])) else \"odd\"\n",
    "\n",
    "print(f\"The number {\n"
   ]
  },
  {
   "cell_type": "code",
   "execution_count": null,
   "id": "867b065a-392a-47bd-8832-6ff0255335c8",
   "metadata": {},
   "outputs": [],
   "source": []
  }
 ],
 "metadata": {
  "kernelspec": {
   "display_name": "Python 3 (ipykernel)",
   "language": "python",
   "name": "python3"
  },
  "language_info": {
   "codemirror_mode": {
    "name": "ipython",
    "version": 3
   },
   "file_extension": ".py",
   "mimetype": "text/x-python",
   "name": "python",
   "nbconvert_exporter": "python",
   "pygments_lexer": "ipython3",
   "version": "3.10.8"
  }
 },
 "nbformat": 4,
 "nbformat_minor": 5
}
